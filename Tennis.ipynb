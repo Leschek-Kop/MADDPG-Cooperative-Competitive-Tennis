{
 "cells": [
  {
   "cell_type": "markdown",
   "metadata": {},
   "source": [
    "# Collaboration and Competition Project 3\n",
    "\n",
    "---\n",
    "\n",
    "Third hands-on project of the Deep Reinforcement Learning Nanodegree.\n",
    "\n",
    "Note: as mentioned as a tip by the course leader the code is oriented by the solutions teached during the drl - nanodegree.\n",
    "\n",
    "### 1. Start the Environment\n",
    "Importing some necessary packages."
   ]
  },
  {
   "cell_type": "code",
   "execution_count": 1,
   "metadata": {},
   "outputs": [],
   "source": [
    "import sys\n",
    "from unityagents import UnityEnvironment\n",
    "import numpy as np\n",
    "from collections import deque\n",
    "import matplotlib.pyplot as plt\n",
    "%matplotlib inline"
   ]
  },
  {
   "cell_type": "markdown",
   "metadata": {},
   "source": [
    "### 2. Define Agent and Traning"
   ]
  },
  {
   "cell_type": "markdown",
   "metadata": {},
   "source": [
    "#### Model and Agent\n",
    "For this project, agents architecture of [Project 2](https://github.com/Leschek-Kop/DDPG-Continuous-Control-Reacher) is used and modified (code in `ddpg_agent.py`). In `maddpg_agents.py` a wrapper as a multi agent handler is defined to solve the multi agent reinforcement learning task (MARL).\n",
    "\n",
    "The main model behind the ddpg is an actor - critic architecture. You can define the agents NN by setting the input_size, hidden_layers and output_size. The definition for hidden_layers, e.g. `hidden_layers=[10, 12]`, will be interpreted as two (2) hidden layers with 10 respectively 12 neurons (a default `hidden_layers=[256, 128]` is set if given hidden_layers=None).\n",
    "\n",
    "A fully connected forward network with a relu activation function between the layers for Actor and Critic is used.\n",
    "\n",
    "The Actor - Network has a tanh activation function for the output layer. This correlates with the requirements of the environment for the action vector (must be a number between `-1` and `1`).\n",
    "\n",
    "The DDPG - Agents are defined with target networks and soft-update for actor and critic networks. The `**kwargs` are used to overwrite agents defaults for:\n",
    " + BATCH_SIZE = 128\n",
    " + BUFFER_SIZE = int(1e5)\n",
    " + GAMMA = 0.99\n",
    " + LR_ACTOR = 1e-3\n",
    " + LR_CRITIC = 1e-3\n",
    " + TAU = 1e-3\n",
    " + SIGMA = 0.2\n",
    "\n",
    "If cuda is available, the agent will try to prefer cuda over cpu for training. Parameter for soft update is given by the hyperparameter `TAU`. The Exploration-Exploitation problem is addressed by the Ornstein-Uhlenbeck process (for additional action noise). Parameter `SIGMA` is used to weight the additional noise.\n",
    "\n",
    "As optimizer the SGD - Adam optimizer (with momentum) is used for better performance.\n",
    "The learning algorithm to train the MADDPG Agents is realized with an Ornstein-Uhlenbeck process to define the exploration-exploitation during training. \n",
    "\n",
    "As an option a shared replay buffer can be set with an additional key-word-argument `MEMORY`."
   ]
  },
  {
   "cell_type": "code",
   "execution_count": 2,
   "metadata": {},
   "outputs": [],
   "source": [
    "from maddpg_agents import MultiAgents\n",
    "from ddpg_agent import Agent as DDPGAgent"
   ]
  },
  {
   "cell_type": "markdown",
   "metadata": {},
   "source": [
    "#### Training and Results\n",
    "A function to plot the scores (in blue) and optional average scores (in red) over episodes with (inline) matplotlib is provided.\n",
    "\n",
    "The multi agent ddpg-training function (multi_ddpg) is set with parameters to define the training and the monitoring."
   ]
  },
  {
   "cell_type": "code",
   "execution_count": 4,
   "metadata": {},
   "outputs": [],
   "source": [
    "def plot_scores(scores, scores_avg=None):\n",
    "    \"\"\"Plot scores ans average (option).\n",
    "\n",
    "    Params\n",
    "    ======\n",
    "        scores (array): List of Rewards per Episode\n",
    "        scores_all_avg (array): List of moving average of reward per Episode\n",
    "    \"\"\"\n",
    "    fig = plt.figure()\n",
    "    ax = fig.add_subplot(111)\n",
    "    plt.ylabel('Score')\n",
    "    plt.xlabel('Episode #')\n",
    "    if not scores_avg == None:\n",
    "        plt.plot(np.arange(len(scores)), scores, label='Scores', color='blue')\n",
    "        plt.plot(np.arange(len(scores_avg)), scores_avg, label='Average', color='red')\n",
    "        # show a legend on the plot\n",
    "        plt.legend()\n",
    "    else:\n",
    "        plt.plot(np.arange(len(scores)), scores)\n",
    "    plt.show()\n",
    "\n",
    "def multi_ddpg(env, brain_name, maddpg, num_agents, n_episodes=10000, queue=100,\n",
    "               print_every=100, stop_solved=0.5, chkpoint_name='checkpoint'):\n",
    "    \"\"\"Train DDPG Agent.\n",
    "\n",
    "        Params\n",
    "        ======\n",
    "            env (object): Reacher Environment\n",
    "            brain_name (object): Env brain name\n",
    "            maddpg (object): MADDPG Object, wrapper to handle multiple agents\n",
    "            num_agents (int): Number of agent in environment\n",
    "            n_episodes (int): Number of episodes\n",
    "            queue (int): window for monitoring purposes. Defines the rewards average\n",
    "            print_every (int): parameter for fixed print information in terminal\n",
    "            stop_solved (float): mean reward over specific windows size to achieve, defined by parameter queue\n",
    "            chkpoint_name (string): suffix for checkpoint names for critic_* and actor_* checkpoint\n",
    "\n",
    "        Return\n",
    "        ======\n",
    "            scores_all (array): List of Rewards per Episode\n",
    "            scores_all_avg (array): List of moving average of reward per Episode over window size defined by parameter \"queue\"\n",
    "        \"\"\"\n",
    "    scores_window = deque(maxlen=queue)\n",
    "    scores_all = []\n",
    "    scores_all_avg = []\n",
    "    for i_episode in range(1, n_episodes + 1):\n",
    "        env_info = env.reset(train_mode=True)[brain_name]  # reset the environment\n",
    "        maddpg.reset()  # reset agents exploration weights\n",
    "        states = env_info.vector_observations  # get the current state\n",
    "        scores = np.zeros(num_agents)  # initialize the score (for each agent)\n",
    "        while True:\n",
    "            actions = maddpg.act(states, add_noise=True)  # select an action for each agent, clipped between -1 and 1\n",
    "            env_info = env.step(actions)[brain_name]  # send all actions to the environment\n",
    "            next_states = env_info.vector_observations  # get env next states\n",
    "            rewards = env_info.rewards  # get reward for each agent\n",
    "            dones = env_info.local_done  # see if episode finished for any agent\n",
    "            maddpg.step(states, actions, rewards, next_states, dones)  # Save and learn\n",
    "            scores += rewards  # update the score for each agent\n",
    "            states = next_states  # roll over states to next time step\n",
    "            if np.any(dones):  # exit loop if episode finished for any agent\n",
    "                break\n",
    "        scores_window.append(np.amax(scores))\n",
    "        scores_all.append(np.amax(scores))\n",
    "        scores_all_avg.append(np.mean(scores_window))\n",
    "\n",
    "        \"\"\"Print progress\"\"\"\n",
    "        print('\\rEpisode {}\\tReward: {:.2f}\\tAverage Score: {:.2f}'.format(i_episode, np.amax(scores),\n",
    "                                                                           np.mean(scores_window)), end=\"\")\n",
    "        if i_episode % print_every == 0:\n",
    "            \"\"\"Print progress and keep it in console log\"\"\"\n",
    "            print('\\rEpisode {}\\tReward: {:.2f}\\tAverage Score: {:.2f}'.format(i_episode, np.amax(scores),\n",
    "                                                                               np.mean(scores_window)))\n",
    "        if np.mean(scores_window) >= stop_solved:\n",
    "            \"\"\"Goal reached, save weights and quit.\"\"\"\n",
    "            print('\\nEnvironment solved in {:d} episodes!\\tAverage Score: {:.2f}'.format(i_episode,\n",
    "                                                                                         np.mean(scores_window)))\n",
    "            maddpg.save_chkpoints(chkpoint_name)\n",
    "            break\n",
    "\n",
    "    return scores_all, scores_all_avg"
   ]
  },
  {
   "cell_type": "markdown",
   "metadata": {},
   "source": [
    "### 3. Train Agent\n",
    "\n",
    "Next, we will start the environment!  **_Before running the code cell below_**, change the `file_name` parameter to match the location of the Unity environment that you downloaded.\n",
    "\n",
    "- **Mac**: `\"path/to/Tennis.app\"`\n",
    "- **Windows** (x86): `\"path/to/Tennis_Windows_x86/Tennis.exe\"`\n",
    "- **Windows** (x86_64): `\"path/to/Tennis_Windows_x86_64/Tennis.exe\"`\n",
    "- **Linux** (x86): `\"path/to/Tennis_Linux/Tennis.x86\"`\n",
    "- **Linux** (x86_64): `\"path/to/Tennis_Linux/Tennis.x86_64\"`\n",
    "- **Linux** (x86, headless): `\"path/to/Tennis_Linux_NoVis/Tennis.x86\"`\n",
    "- **Linux** (x86_64, headless): `\"path/to/Tennis_Linux_NoVis/Tennis.x86_64\"`\n",
    "\n",
    "For instance, if you are using a Mac, then you downloaded `Tennis.app`.  If this file is in the same folder as the notebook, then the line below should appear as follows:\n",
    "```\n",
    "env = UnityEnvironment(file_name=\"Tennis.app\")\n",
    "```\n",
    "\n",
    "After the environment is loaded environments **Brain** has to be defined. Environments contain **_brains_** which are responsible for deciding the actions of their associated agents. Here we check for the first brain available, and set it as the default brain we will be controlling from Python."
   ]
  },
  {
   "cell_type": "code",
   "execution_count": 5,
   "metadata": {},
   "outputs": [
    {
     "name": "stderr",
     "output_type": "stream",
     "text": [
      "INFO:unityagents:\n",
      "'Academy' started successfully!\n",
      "Unity Academy name: Academy\n",
      "        Number of Brains: 1\n",
      "        Number of External Brains : 1\n",
      "        Lesson number : 0\n",
      "        Reset Parameters :\n",
      "\t\t\n",
      "Unity brain name: TennisBrain\n",
      "        Number of Visual Observations (per agent): 0\n",
      "        Vector Observation space type: continuous\n",
      "        Vector Observation space size (per agent): 8\n",
      "        Number of stacked Vector Observation: 3\n",
      "        Vector Action space type: continuous\n",
      "        Vector Action space size (per agent): 2\n",
      "        Vector Action descriptions: , \n"
     ]
    }
   ],
   "source": [
    "env = UnityEnvironment(file_name=\"Tennis.app\")\n",
    "# get the default brain\n",
    "brain_name = env.brain_names[0]\n",
    "brain = env.brains[brain_name]"
   ]
  },
  {
   "cell_type": "markdown",
   "metadata": {},
   "source": [
    "###  Examine the State and Action Spaces\n",
    "\n",
    "In this environment, two agents control rackets to bounce a ball over a net. If an agent hits the ball over the net, it receives a reward of `+0.1`. If an agent lets a ball hit the ground or hits the ball out of bounds, it receives a reward of `-0.01`. Thus, the goal of each agent is to keep the ball in play.\n",
    "\n",
    "The observation space consists of `8` variables corresponding to the position and velocity of the ball and racket. Two continuous actions are available, corresponding to movement toward (or away from) the net, and jumping.\n",
    "\n",
    "In the last code cell some additional information about the environment are printed."
   ]
  },
  {
   "cell_type": "markdown",
   "metadata": {},
   "source": [
    "###### Start Training:\n",
    "\n",
    "The next code cell will define an  MADDPG-Agent and the training environment. Two agents are defined with:\n",
    "\n",
    " + hidden_layers_actor = [512, 256, 64]      # 3 Hidden layers with 512, 256 and 64 neurons.\n",
    " + hidden_layers_critic = [512, 256, 64]     # 3 Hidden layers with 512, 256 and 64 neurons.\n",
    " + GAMMA = 0.99\n",
    " + LR_ACTOR = 1e-4\n",
    " + LR_CRITIC = 1e-4\n",
    " + TAU = 1e-3\n",
    " + SIGMA = 0.1\n",
    "\n",
    "For the MADDPG a `MEMORY_MODE = 2` is set for a shered repley buffer. Parameter for the buffer are:\n",
    "\n",
    " + BATCH_SIZE = 256\n",
    " + BUFFER_SIZE = int(1e6)\n",
    "\n",
    "The training is set to max. 10000 episodes (eps) and will stop if the average reward will hit `>= 0.5` (stop_solved).\n",
    "The task is episodic, and in order to solve the environment, the agent must get an average score of `0.5` over `100` consecutive episodes.\n",
    "\n",
    "The task is a collaboration and competition one. Both agents trying to max. their own reward by keeping the ball as long as possible in the game.\n",
    "\n",
    "Results for the defined agent are plotted below the code cell as well as the number of episodes needed to solve the environment."
   ]
  },
  {
   "cell_type": "code",
   "execution_count": 6,
   "metadata": {
    "scrolled": false
   },
   "outputs": [
    {
     "name": "stdout",
     "output_type": "stream",
     "text": [
      "\n",
      "#### Start training with '2' agents ####\n",
      "Episode 100\tReward: -0.00\tAverage Score: 0.00\n",
      "Episode 200\tReward: -0.00\tAverage Score: 0.01\n",
      "Episode 300\tReward: -0.00\tAverage Score: 0.00\n",
      "Episode 400\tReward: -0.00\tAverage Score: 0.00\n",
      "Episode 500\tReward: -0.00\tAverage Score: 0.00\n",
      "Episode 600\tReward: -0.00\tAverage Score: 0.00\n",
      "Episode 700\tReward: -0.00\tAverage Score: 0.00\n",
      "Episode 800\tReward: -0.00\tAverage Score: 0.00\n",
      "Episode 900\tReward: -0.00\tAverage Score: 0.01\n",
      "Episode 1000\tReward: -0.00\tAverage Score: 0.01\n",
      "Episode 1100\tReward: -0.00\tAverage Score: 0.00\n",
      "Episode 1200\tReward: -0.00\tAverage Score: 0.01\n",
      "Episode 1300\tReward: -0.00\tAverage Score: 0.02\n",
      "Episode 1400\tReward: -0.00\tAverage Score: 0.00\n",
      "Episode 1500\tReward: -0.00\tAverage Score: 0.00\n",
      "Episode 1600\tReward: -0.00\tAverage Score: 0.00\n",
      "Episode 1700\tReward: -0.00\tAverage Score: 0.00\n",
      "Episode 1800\tReward: -0.00\tAverage Score: 0.02\n",
      "Episode 1900\tReward: 0.05\tAverage Score: 0.022\n",
      "Episode 2000\tReward: 0.05\tAverage Score: 0.044\n",
      "Episode 2100\tReward: 0.05\tAverage Score: 0.055\n",
      "Episode 2200\tReward: 0.05\tAverage Score: 0.044\n",
      "Episode 2300\tReward: -0.00\tAverage Score: 0.04\n",
      "Episode 2400\tReward: 0.05\tAverage Score: 0.066\n",
      "Episode 2500\tReward: 0.05\tAverage Score: 0.077\n",
      "Episode 2600\tReward: 0.05\tAverage Score: 0.088\n",
      "Episode 2700\tReward: -0.00\tAverage Score: 0.08\n",
      "Episode 2800\tReward: 0.05\tAverage Score: 0.088\n",
      "Episode 2900\tReward: 0.05\tAverage Score: 0.088\n",
      "Episode 3000\tReward: 0.05\tAverage Score: 0.088\n",
      "Episode 3100\tReward: 0.05\tAverage Score: 0.100\n",
      "Episode 3200\tReward: -0.00\tAverage Score: 0.09\n",
      "Episode 3300\tReward: 0.20\tAverage Score: 0.109\n",
      "Episode 3400\tReward: 0.05\tAverage Score: 0.110\n",
      "Episode 3500\tReward: 0.05\tAverage Score: 0.111\n",
      "Episode 3600\tReward: 0.05\tAverage Score: 0.111\n",
      "Episode 3700\tReward: 0.05\tAverage Score: 0.132\n",
      "Episode 3800\tReward: 0.10\tAverage Score: 0.111\n",
      "Episode 3900\tReward: 0.10\tAverage Score: 0.111\n",
      "Episode 4000\tReward: 0.05\tAverage Score: 0.122\n",
      "Episode 4100\tReward: 0.05\tAverage Score: 0.111\n",
      "Episode 4200\tReward: 0.15\tAverage Score: 0.122\n",
      "Episode 4300\tReward: 0.05\tAverage Score: 0.122\n",
      "Episode 4400\tReward: -0.00\tAverage Score: 0.12\n",
      "Episode 4500\tReward: 0.05\tAverage Score: 0.132\n",
      "Episode 4600\tReward: 0.15\tAverage Score: 0.133\n",
      "Episode 4700\tReward: 0.05\tAverage Score: 0.134\n",
      "Episode 4800\tReward: 0.10\tAverage Score: 0.13\n",
      "Episode 4900\tReward: 0.05\tAverage Score: 0.144\n",
      "Episode 5000\tReward: 0.15\tAverage Score: 0.133\n",
      "Episode 5100\tReward: 0.10\tAverage Score: 0.17\n",
      "Episode 5200\tReward: 0.05\tAverage Score: 0.18\n",
      "Episode 5300\tReward: 0.15\tAverage Score: 0.18\n",
      "Episode 5400\tReward: 0.15\tAverage Score: 0.198\n",
      "Episode 5500\tReward: 0.40\tAverage Score: 0.23\n",
      "Episode 5600\tReward: 0.05\tAverage Score: 0.222\n",
      "Episode 5700\tReward: 0.15\tAverage Score: 0.233\n",
      "Episode 5800\tReward: 0.25\tAverage Score: 0.25\n",
      "Episode 5900\tReward: 0.05\tAverage Score: 0.28\n",
      "Episode 6000\tReward: 0.10\tAverage Score: 0.34\n",
      "Episode 6095\tReward: 1.80\tAverage Score: 0.512\n",
      "Environment solved in 6095 episodes!\tAverage Score: 0.51\n"
     ]
    },
    {
     "data": {
      "image/png": "[encoded data removed]",
      "text/plain": [
       "<Figure size 432x288 with 1 Axes>"
      ]
     },
     "metadata": {
      "needs_background": "light"
     },
     "output_type": "display_data"
    }
   ],
   "source": [
    "seed_ = 0\n",
    "env_info = env.reset(train_mode=True)[brain_name]  # reset the environment\n",
    "states = env_info.vector_observations  # test set of environments states\n",
    "num_agents = len(env_info.agents)\n",
    "state_size = states.shape[1]  # num states\n",
    "action_size = brain.vector_action_space_size  # num actions\n",
    "state_size = state_size * num_agents\n",
    "hidden_layers_actor = [256, 128, 64]\n",
    "hidden_layers_critic = [256, 128, 64]\n",
    "eps = 10000\n",
    "date = 20210704\n",
    "suffix = 'SOLVED'\n",
    "print(\"\\n#### Start training with '{}' agents ####\".format(num_agents), end=\"\\n\")\n",
    "sys.stdout.flush()\n",
    "\n",
    "# Define Agents\n",
    "ddpg_config_list = [\n",
    "    {\"state_size\": state_size, \"action_size\": action_size, \"seed\": seed_, \"hidden_layers_actor\": hidden_layers_actor,\n",
    "     \"hidden_layers_critic\": hidden_layers_critic, \"kwargs\": {\"BATCH_SIZE\": 256, \"BUFFER_SIZE\": int(1e6), \"GAMMA\": 0.99,\n",
    "                                                              \"LR_ACTOR\": 1e-3, \"LR_CRITIC\": 1e-3, \"TAU\": 1e-3, \n",
    "                                                              \"SIGMA\": 0.1}\n",
    "    },\n",
    "    {\"state_size\": state_size, \"action_size\": action_size, \"seed\": seed_, \"hidden_layers_actor\": hidden_layers_actor,\n",
    "     \"hidden_layers_critic\": hidden_layers_critic, \"kwargs\": {\"BATCH_SIZE\": 256, \"BUFFER_SIZE\": int(1e6), \"GAMMA\": 0.99,\n",
    "                                                              \"LR_ACTOR\": 1e-3, \"LR_CRITIC\": 1e-3, \"TAU\": 1e-3, \n",
    "                                                              \"SIGMA\": 0.1}\n",
    "    }\n",
    "]\n",
    "# Define MARL settings\n",
    "maddpg_config = {\n",
    "    \"STATE_SIZE\": state_size,\n",
    "    \"ACTION_SIZE\": action_size,\n",
    "    \"NUM_AGENTS\": num_agents,\n",
    "    \"MEMORY\": [{\n",
    "        \"action_size\": action_size,\n",
    "        \"buffer_size\": int(1e6),\n",
    "        \"batch_size\": 256,\n",
    "        \"seed\": seed_\n",
    "    }],\n",
    "    \"MEMORY_MODE\": 2  # 2: Shared relay buffer\n",
    "}\n",
    "multiagents = MultiAgents(ddpg_config_list, maddpg_config)\n",
    "\n",
    "# Start training\n",
    "scores, scores_avg = multi_ddpg(env, brain_name, multiagents, num_agents=num_agents,\n",
    "                                         n_episodes=eps, queue=100, print_every=100, stop_solved=0.5,\n",
    "                                         chkpoint_name=\"checkpoint_{}_{}_{}_{}\".format(num_agents, eps, date, suffix))\n",
    "# plot the scores\n",
    "plot_scores(scores, scores_avg)"
   ]
  },
  {
   "cell_type": "markdown",
   "metadata": {},
   "source": [
    "### 4. Watch your trained Agent\n",
    "Use the trained weights and watch the agent acting in the environment."
   ]
  },
  {
   "cell_type": "code",
   "execution_count": 7,
   "metadata": {},
   "outputs": [
    {
     "name": "stdout",
     "output_type": "stream",
     "text": [
      "Score (max over agents) from episode 1: 0.4000000059604645\n",
      "Score (max over agents) from episode 2: 0.20000000298023224\n",
      "Score (max over agents) from episode 3: 0.10000000149011612\n",
      "Score (max over agents) from episode 4: 0.10000000149011612\n"
     ]
    }
   ],
   "source": [
    "for i in range(1, 5):                                      # play game for 5 episodes\n",
    "    env_info = env.reset(train_mode=False)[brain_name]     # reset the environment    \n",
    "    states = env_info.vector_observations                  # get the current state (for each agent)\n",
    "    scores = np.zeros(num_agents)                          # initialize the score (for each agent)\n",
    "    while True:\n",
    "        actions = multiagents.act(states, add_noise=True)  # select an action for each agent, clipped between -1 and 1\n",
    "        env_info = env.step(actions)[brain_name]           # send all actions to tne environment\n",
    "        next_states = env_info.vector_observations         # get next state (for each agent)\n",
    "        rewards = env_info.rewards                         # get reward (for each agent)\n",
    "        dones = env_info.local_done                        # see if episode finished\n",
    "        scores += env_info.rewards                         # update the score (for each agent)\n",
    "        states = next_states                               # roll over states to next time step\n",
    "        if np.any(dones):                                  # exit loop if episode finished\n",
    "            break\n",
    "    print('Score (max over agents) from episode {}: {}'.format(i, np.max(scores)))"
   ]
  },
  {
   "cell_type": "markdown",
   "metadata": {},
   "source": [
    "### 5. Finish\n",
    "When finished, you can close the environment by running the following command."
   ]
  },
  {
   "cell_type": "code",
   "execution_count": 8,
   "metadata": {},
   "outputs": [],
   "source": [
    "env.close()"
   ]
  },
  {
   "cell_type": "markdown",
   "metadata": {},
   "source": [
    "### Ideas for Future Work\n",
    "\n",
    "There are a lot of improvements to make. Some of them are:\n",
    " + Add parameter noise for exploration\n",
    " + Add batch normalization to improve learn performance\n",
    " + prioritized experience replay\n",
    " + Test an marl achitecture with shared critic\n",
    " + Run a empirical case study for hyperparameter alpha (LR - learning Rate) for actor and critic and tau ( for softupdate ) to improve performance."
   ]
  }
 ],
 "metadata": {
  "kernelspec": {
   "display_name": "drlnd",
   "language": "python",
   "name": "drlnd"
  },
  "language_info": {
   "codemirror_mode": {
    "name": "ipython",
    "version": 3
   },
   "file_extension": ".py",
   "mimetype": "text/x-python",
   "name": "python",
   "nbconvert_exporter": "python",
   "pygments_lexer": "ipython3",
   "version": "3.6.13"
  }
 },
 "nbformat": 4,
 "nbformat_minor": 2
}
